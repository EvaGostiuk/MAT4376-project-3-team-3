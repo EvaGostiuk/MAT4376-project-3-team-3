{
  "nbformat": 4,
  "nbformat_minor": 0,
  "metadata": {
    "colab": {
      "provenance": []
    },
    "kernelspec": {
      "name": "python3",
      "display_name": "Python 3"
    },
    "language_info": {
      "name": "python"
    }
  },
  "cells": [
    {
      "cell_type": "code",
      "execution_count": 195,
      "metadata": {
        "id": "p4nn8YInf53N"
      },
      "outputs": [],
      "source": [
        "import numpy as np # linear algebra\n",
        "import pandas as pd # data processing, CSV file I/O (e.g. pd.read_csv)\n",
        "\n",
        "import copy"
      ]
    },
    {
      "cell_type": "code",
      "source": [
        "basa = pd.read_csv('BASA_AUC_2028_912.csv')\n",
        "basa[\"df\"] = basa.apply (lambda x: \"basa\", axis=1)\n",
        "basa.columns"
      ],
      "metadata": {
        "colab": {
          "base_uri": "https://localhost:8080/"
        },
        "id": "9yCFm9fSk4_W",
        "outputId": "2966958c-42c7-4363-f60c-d3ebc5b2da46"
      },
      "execution_count": 196,
      "outputs": [
        {
          "output_type": "execute_result",
          "data": {
            "text/plain": [
              "Index(['X', 'Airfield', 'S2', 'Wait_Time', 'C_Start', 'C0', 'C_avg',\n",
              "       'Sch_Departure', 'Act_Departure', 'BFO_Dest_City',\n",
              "       'BFO_Destination_Country_Code', 'order', 'Pass_ID', 'Departure_Date',\n",
              "       'Departure_Time', 'Time_of_Day', 'Period_of_Week', 'Day_of_Week',\n",
              "       'Month', 'Season', 'Year', 'df'],\n",
              "      dtype='object')"
            ]
          },
          "metadata": {},
          "execution_count": 196
        }
      ]
    },
    {
      "cell_type": "code",
      "source": [
        "y2026 = pd.read_csv('years20262030.csv')\n",
        "y2026 = y2026.drop([ 'Unnamed: 0'], axis=1)\n",
        "y2026[\"df\"] = y2026.apply (lambda x: \"y2026\", axis=1)\n",
        "y2026.columns"
      ],
      "metadata": {
        "colab": {
          "base_uri": "https://localhost:8080/"
        },
        "id": "SRcRZXoolQvK",
        "outputId": "4f5a4710-3954-4b45-9bcb-29c021139cec"
      },
      "execution_count": 197,
      "outputs": [
        {
          "output_type": "execute_result",
          "data": {
            "text/plain": [
              "Index(['Airfield', 'S2', 'Wait_Time', 'C_Start', 'C0', 'C_avg',\n",
              "       'Sch_Departure', 'Act_Departure', 'BFO_Dest_City',\n",
              "       'BFO_Destination_Country_Code', 'order', 'Pass_ID', 'Departure_Date',\n",
              "       'Departure_Time', 'Time_of_Day', 'Period_of_Week', 'Day_of_Week',\n",
              "       'Month', 'Season', 'Year', 'df'],\n",
              "      dtype='object')"
            ]
          },
          "metadata": {},
          "execution_count": 197
        }
      ]
    },
    {
      "cell_type": "code",
      "source": [
        "dat = pd.read_csv('dat_P_sub_c.csv')\n",
        "dat[\"df\"] = dat.apply (lambda x: \"dat\", axis=1)\n",
        "#dat = dat.drop([ 'Unnamed: 0'], axis=1)\n",
        "dat.columns"
      ],
      "metadata": {
        "colab": {
          "base_uri": "https://localhost:8080/"
        },
        "id": "Bim_EZnNlYH6",
        "outputId": "e0ddf92a-839b-4f14-ec30-ba38d84c1ce1"
      },
      "execution_count": 198,
      "outputs": [
        {
          "output_type": "execute_result",
          "data": {
            "text/plain": [
              "Index(['Pass_ID', 'valid_P_ID', 'Airfield', 'S2', 'Wait_Time', 'C_Start', 'C0',\n",
              "       'C_avg', 'Sch_Departure', 'Act_Departure', 'BFO_Dest_City',\n",
              "       'BFO_Destination_Country_Code', 'order', 'Departure_Date',\n",
              "       'Time_of_Day', 'Period_of_Week', 'Day_of_Week', 'Month', 'Season',\n",
              "       'Year', 'WT_flag', 'S2_Sch_Flag', 'S2_Act_Flag', 'Sch_Act_Flag',\n",
              "       'Flight_ID', 'Delay_in_Seconds', 'df'],\n",
              "      dtype='object')"
            ]
          },
          "metadata": {},
          "execution_count": 198
        }
      ]
    },
    {
      "cell_type": "code",
      "source": [
        "y2026[\"Sch_Departure\"] = y2026.apply (lambda x: pd.Timestamp(x[\"Sch_Departure\"]), axis=1)\n",
        "y2026[\"Act_Departure\"] = y2026.apply (lambda x: pd.Timestamp(x[\"Act_Departure\"]), axis=1)\n",
        "y2026[\"S2\"] = y2026.apply (lambda x: pd.Timestamp(x[\"S2\"]), axis=1)\n",
        "\n",
        "y2026[\"S2_Sch_Flag\"]= np.where(y2026['S2'] <= y2026['Sch_Departure'] , 0, 1)\n",
        "y2026[\"S2_Act_Flag\"]= np.where(y2026['S2'] <= y2026['Act_Departure'] , 0, 1)\n",
        "y2026[\"Sch_Act_Flag\"]= np.where(y2026['Sch_Departure'] <= y2026['Act_Departure'] , 0, 1)\n",
        "y2026[\"WT_flag\"]= np.where(y2026['Wait_Time'].isna()  , 0, 1)\n",
        "y2026[\"Delay_in_Seconds\"]= y2026.apply (lambda x: (x['Sch_Departure']-x['Act_Departure']).total_seconds(), axis=1)\n",
        "\n",
        "y2026.head(1)"
      ],
      "metadata": {
        "colab": {
          "base_uri": "https://localhost:8080/",
          "height": 209
        },
        "id": "geVa0-651Mro",
        "outputId": "7e2e185e-bf40-4f3a-ae52-5b789dd4b8e8"
      },
      "execution_count": 199,
      "outputs": [
        {
          "output_type": "execute_result",
          "data": {
            "text/plain": [
              "  Airfield                  S2  Wait_Time  C_Start   C0  C_avg  \\\n",
              "0      QUE 2027-01-01 06:29:00        NaN      NaN  5.0    NaN   \n",
              "\n",
              "        Sch_Departure       Act_Departure BFO_Dest_City  \\\n",
              "0 2026-12-23 19:53:00 2026-12-23 20:05:00        BOR030   \n",
              "\n",
              "  BFO_Destination_Country_Code  ...  Day_of_Week   Month      Season  Year  \\\n",
              "0                          BOR  ...      3 - WED  12-Dec  4 - AUTUMN  2026   \n",
              "\n",
              "      df S2_Sch_Flag S2_Act_Flag Sch_Act_Flag WT_flag  Delay_in_Seconds  \n",
              "0  y2026           1           1            0       0            -720.0  \n",
              "\n",
              "[1 rows x 26 columns]"
            ],
            "text/html": [
              "\n",
              "  <div id=\"df-f3efffd8-dac4-42a5-994b-17e77f0437c0\">\n",
              "    <div class=\"colab-df-container\">\n",
              "      <div>\n",
              "<style scoped>\n",
              "    .dataframe tbody tr th:only-of-type {\n",
              "        vertical-align: middle;\n",
              "    }\n",
              "\n",
              "    .dataframe tbody tr th {\n",
              "        vertical-align: top;\n",
              "    }\n",
              "\n",
              "    .dataframe thead th {\n",
              "        text-align: right;\n",
              "    }\n",
              "</style>\n",
              "<table border=\"1\" class=\"dataframe\">\n",
              "  <thead>\n",
              "    <tr style=\"text-align: right;\">\n",
              "      <th></th>\n",
              "      <th>Airfield</th>\n",
              "      <th>S2</th>\n",
              "      <th>Wait_Time</th>\n",
              "      <th>C_Start</th>\n",
              "      <th>C0</th>\n",
              "      <th>C_avg</th>\n",
              "      <th>Sch_Departure</th>\n",
              "      <th>Act_Departure</th>\n",
              "      <th>BFO_Dest_City</th>\n",
              "      <th>BFO_Destination_Country_Code</th>\n",
              "      <th>...</th>\n",
              "      <th>Day_of_Week</th>\n",
              "      <th>Month</th>\n",
              "      <th>Season</th>\n",
              "      <th>Year</th>\n",
              "      <th>df</th>\n",
              "      <th>S2_Sch_Flag</th>\n",
              "      <th>S2_Act_Flag</th>\n",
              "      <th>Sch_Act_Flag</th>\n",
              "      <th>WT_flag</th>\n",
              "      <th>Delay_in_Seconds</th>\n",
              "    </tr>\n",
              "  </thead>\n",
              "  <tbody>\n",
              "    <tr>\n",
              "      <th>0</th>\n",
              "      <td>QUE</td>\n",
              "      <td>2027-01-01 06:29:00</td>\n",
              "      <td>NaN</td>\n",
              "      <td>NaN</td>\n",
              "      <td>5.0</td>\n",
              "      <td>NaN</td>\n",
              "      <td>2026-12-23 19:53:00</td>\n",
              "      <td>2026-12-23 20:05:00</td>\n",
              "      <td>BOR030</td>\n",
              "      <td>BOR</td>\n",
              "      <td>...</td>\n",
              "      <td>3 - WED</td>\n",
              "      <td>12-Dec</td>\n",
              "      <td>4 - AUTUMN</td>\n",
              "      <td>2026</td>\n",
              "      <td>y2026</td>\n",
              "      <td>1</td>\n",
              "      <td>1</td>\n",
              "      <td>0</td>\n",
              "      <td>0</td>\n",
              "      <td>-720.0</td>\n",
              "    </tr>\n",
              "  </tbody>\n",
              "</table>\n",
              "<p>1 rows × 26 columns</p>\n",
              "</div>\n",
              "      <button class=\"colab-df-convert\" onclick=\"convertToInteractive('df-f3efffd8-dac4-42a5-994b-17e77f0437c0')\"\n",
              "              title=\"Convert this dataframe to an interactive table.\"\n",
              "              style=\"display:none;\">\n",
              "        \n",
              "  <svg xmlns=\"http://www.w3.org/2000/svg\" height=\"24px\"viewBox=\"0 0 24 24\"\n",
              "       width=\"24px\">\n",
              "    <path d=\"M0 0h24v24H0V0z\" fill=\"none\"/>\n",
              "    <path d=\"M18.56 5.44l.94 2.06.94-2.06 2.06-.94-2.06-.94-.94-2.06-.94 2.06-2.06.94zm-11 1L8.5 8.5l.94-2.06 2.06-.94-2.06-.94L8.5 2.5l-.94 2.06-2.06.94zm10 10l.94 2.06.94-2.06 2.06-.94-2.06-.94-.94-2.06-.94 2.06-2.06.94z\"/><path d=\"M17.41 7.96l-1.37-1.37c-.4-.4-.92-.59-1.43-.59-.52 0-1.04.2-1.43.59L10.3 9.45l-7.72 7.72c-.78.78-.78 2.05 0 2.83L4 21.41c.39.39.9.59 1.41.59.51 0 1.02-.2 1.41-.59l7.78-7.78 2.81-2.81c.8-.78.8-2.07 0-2.86zM5.41 20L4 18.59l7.72-7.72 1.47 1.35L5.41 20z\"/>\n",
              "  </svg>\n",
              "      </button>\n",
              "      \n",
              "  <style>\n",
              "    .colab-df-container {\n",
              "      display:flex;\n",
              "      flex-wrap:wrap;\n",
              "      gap: 12px;\n",
              "    }\n",
              "\n",
              "    .colab-df-convert {\n",
              "      background-color: #E8F0FE;\n",
              "      border: none;\n",
              "      border-radius: 50%;\n",
              "      cursor: pointer;\n",
              "      display: none;\n",
              "      fill: #1967D2;\n",
              "      height: 32px;\n",
              "      padding: 0 0 0 0;\n",
              "      width: 32px;\n",
              "    }\n",
              "\n",
              "    .colab-df-convert:hover {\n",
              "      background-color: #E2EBFA;\n",
              "      box-shadow: 0px 1px 2px rgba(60, 64, 67, 0.3), 0px 1px 3px 1px rgba(60, 64, 67, 0.15);\n",
              "      fill: #174EA6;\n",
              "    }\n",
              "\n",
              "    [theme=dark] .colab-df-convert {\n",
              "      background-color: #3B4455;\n",
              "      fill: #D2E3FC;\n",
              "    }\n",
              "\n",
              "    [theme=dark] .colab-df-convert:hover {\n",
              "      background-color: #434B5C;\n",
              "      box-shadow: 0px 1px 3px 1px rgba(0, 0, 0, 0.15);\n",
              "      filter: drop-shadow(0px 1px 2px rgba(0, 0, 0, 0.3));\n",
              "      fill: #FFFFFF;\n",
              "    }\n",
              "  </style>\n",
              "\n",
              "      <script>\n",
              "        const buttonEl =\n",
              "          document.querySelector('#df-f3efffd8-dac4-42a5-994b-17e77f0437c0 button.colab-df-convert');\n",
              "        buttonEl.style.display =\n",
              "          google.colab.kernel.accessAllowed ? 'block' : 'none';\n",
              "\n",
              "        async function convertToInteractive(key) {\n",
              "          const element = document.querySelector('#df-f3efffd8-dac4-42a5-994b-17e77f0437c0');\n",
              "          const dataTable =\n",
              "            await google.colab.kernel.invokeFunction('convertToInteractive',\n",
              "                                                     [key], {});\n",
              "          if (!dataTable) return;\n",
              "\n",
              "          const docLinkHtml = 'Like what you see? Visit the ' +\n",
              "            '<a target=\"_blank\" href=https://colab.research.google.com/notebooks/data_table.ipynb>data table notebook</a>'\n",
              "            + ' to learn more about interactive tables.';\n",
              "          element.innerHTML = '';\n",
              "          dataTable['output_type'] = 'display_data';\n",
              "          await google.colab.output.renderOutput(dataTable, element);\n",
              "          const docLink = document.createElement('div');\n",
              "          docLink.innerHTML = docLinkHtml;\n",
              "          element.appendChild(docLink);\n",
              "        }\n",
              "      </script>\n",
              "    </div>\n",
              "  </div>\n",
              "  "
            ]
          },
          "metadata": {},
          "execution_count": 199
        }
      ]
    },
    {
      "cell_type": "code",
      "source": [
        "basa[\"Sch_Departure\"] = basa.apply (lambda x: pd.Timestamp(x[\"Sch_Departure\"]), axis=1)\n",
        "basa[\"Act_Departure\"] = basa.apply (lambda x: pd.Timestamp(x[\"Act_Departure\"]), axis=1)\n",
        "basa[\"S2\"] = basa.apply (lambda x: pd.Timestamp(x[\"S2\"]), axis=1)\n",
        "\n",
        "basa[\"S2_Sch_Flag\"]= np.where(basa['S2'] <= basa['Sch_Departure'] , 0, 1)\n",
        "basa[\"S2_Act_Flag\"]= np.where(basa['S2'] <= basa['Act_Departure'] , 0, 1)\n",
        "basa[\"Sch_Act_Flag\"]= np.where(basa['Sch_Departure'] <= basa['Act_Departure'] , 0, 1)\n",
        "basa[\"WT_flag\"]= np.where(basa['Wait_Time'].isna()  , 0, 1)\n",
        "basa[\"Delay_in_Seconds\"]= basa.apply (lambda x: (x['Sch_Departure']-x['Act_Departure']).total_seconds(), axis=1)\n",
        "\n",
        "basa.head(1)"
      ],
      "metadata": {
        "colab": {
          "base_uri": "https://localhost:8080/",
          "height": 209
        },
        "id": "s__d0_F-mPDZ",
        "outputId": "1e0b38f5-b571-4324-e144-00ee9d39c306"
      },
      "execution_count": 200,
      "outputs": [
        {
          "output_type": "execute_result",
          "data": {
            "text/plain": [
              "         X Airfield                  S2  Wait_Time  C_Start   C0  C_avg  \\\n",
              "0  1057198      AUC 2028-08-31 18:57:00       14.0      2.0  2.0    2.0   \n",
              "\n",
              "        Sch_Departure       Act_Departure BFO_Dest_City  ... Day_of_Week  \\\n",
              "0 2028-08-31 20:16:00 2028-08-31 20:16:00        VES064  ...     4 - THU   \n",
              "\n",
              "      Month      Season  Year    df S2_Sch_Flag S2_Act_Flag Sch_Act_Flag  \\\n",
              "0  08 - AUG  3 - SUMMER  2028  basa           0           0            0   \n",
              "\n",
              "  WT_flag Delay_in_Seconds  \n",
              "0       1              0.0  \n",
              "\n",
              "[1 rows x 27 columns]"
            ],
            "text/html": [
              "\n",
              "  <div id=\"df-c9d9fe0b-03b8-48b1-a6b0-e635a6415e12\">\n",
              "    <div class=\"colab-df-container\">\n",
              "      <div>\n",
              "<style scoped>\n",
              "    .dataframe tbody tr th:only-of-type {\n",
              "        vertical-align: middle;\n",
              "    }\n",
              "\n",
              "    .dataframe tbody tr th {\n",
              "        vertical-align: top;\n",
              "    }\n",
              "\n",
              "    .dataframe thead th {\n",
              "        text-align: right;\n",
              "    }\n",
              "</style>\n",
              "<table border=\"1\" class=\"dataframe\">\n",
              "  <thead>\n",
              "    <tr style=\"text-align: right;\">\n",
              "      <th></th>\n",
              "      <th>X</th>\n",
              "      <th>Airfield</th>\n",
              "      <th>S2</th>\n",
              "      <th>Wait_Time</th>\n",
              "      <th>C_Start</th>\n",
              "      <th>C0</th>\n",
              "      <th>C_avg</th>\n",
              "      <th>Sch_Departure</th>\n",
              "      <th>Act_Departure</th>\n",
              "      <th>BFO_Dest_City</th>\n",
              "      <th>...</th>\n",
              "      <th>Day_of_Week</th>\n",
              "      <th>Month</th>\n",
              "      <th>Season</th>\n",
              "      <th>Year</th>\n",
              "      <th>df</th>\n",
              "      <th>S2_Sch_Flag</th>\n",
              "      <th>S2_Act_Flag</th>\n",
              "      <th>Sch_Act_Flag</th>\n",
              "      <th>WT_flag</th>\n",
              "      <th>Delay_in_Seconds</th>\n",
              "    </tr>\n",
              "  </thead>\n",
              "  <tbody>\n",
              "    <tr>\n",
              "      <th>0</th>\n",
              "      <td>1057198</td>\n",
              "      <td>AUC</td>\n",
              "      <td>2028-08-31 18:57:00</td>\n",
              "      <td>14.0</td>\n",
              "      <td>2.0</td>\n",
              "      <td>2.0</td>\n",
              "      <td>2.0</td>\n",
              "      <td>2028-08-31 20:16:00</td>\n",
              "      <td>2028-08-31 20:16:00</td>\n",
              "      <td>VES064</td>\n",
              "      <td>...</td>\n",
              "      <td>4 - THU</td>\n",
              "      <td>08 - AUG</td>\n",
              "      <td>3 - SUMMER</td>\n",
              "      <td>2028</td>\n",
              "      <td>basa</td>\n",
              "      <td>0</td>\n",
              "      <td>0</td>\n",
              "      <td>0</td>\n",
              "      <td>1</td>\n",
              "      <td>0.0</td>\n",
              "    </tr>\n",
              "  </tbody>\n",
              "</table>\n",
              "<p>1 rows × 27 columns</p>\n",
              "</div>\n",
              "      <button class=\"colab-df-convert\" onclick=\"convertToInteractive('df-c9d9fe0b-03b8-48b1-a6b0-e635a6415e12')\"\n",
              "              title=\"Convert this dataframe to an interactive table.\"\n",
              "              style=\"display:none;\">\n",
              "        \n",
              "  <svg xmlns=\"http://www.w3.org/2000/svg\" height=\"24px\"viewBox=\"0 0 24 24\"\n",
              "       width=\"24px\">\n",
              "    <path d=\"M0 0h24v24H0V0z\" fill=\"none\"/>\n",
              "    <path d=\"M18.56 5.44l.94 2.06.94-2.06 2.06-.94-2.06-.94-.94-2.06-.94 2.06-2.06.94zm-11 1L8.5 8.5l.94-2.06 2.06-.94-2.06-.94L8.5 2.5l-.94 2.06-2.06.94zm10 10l.94 2.06.94-2.06 2.06-.94-2.06-.94-.94-2.06-.94 2.06-2.06.94z\"/><path d=\"M17.41 7.96l-1.37-1.37c-.4-.4-.92-.59-1.43-.59-.52 0-1.04.2-1.43.59L10.3 9.45l-7.72 7.72c-.78.78-.78 2.05 0 2.83L4 21.41c.39.39.9.59 1.41.59.51 0 1.02-.2 1.41-.59l7.78-7.78 2.81-2.81c.8-.78.8-2.07 0-2.86zM5.41 20L4 18.59l7.72-7.72 1.47 1.35L5.41 20z\"/>\n",
              "  </svg>\n",
              "      </button>\n",
              "      \n",
              "  <style>\n",
              "    .colab-df-container {\n",
              "      display:flex;\n",
              "      flex-wrap:wrap;\n",
              "      gap: 12px;\n",
              "    }\n",
              "\n",
              "    .colab-df-convert {\n",
              "      background-color: #E8F0FE;\n",
              "      border: none;\n",
              "      border-radius: 50%;\n",
              "      cursor: pointer;\n",
              "      display: none;\n",
              "      fill: #1967D2;\n",
              "      height: 32px;\n",
              "      padding: 0 0 0 0;\n",
              "      width: 32px;\n",
              "    }\n",
              "\n",
              "    .colab-df-convert:hover {\n",
              "      background-color: #E2EBFA;\n",
              "      box-shadow: 0px 1px 2px rgba(60, 64, 67, 0.3), 0px 1px 3px 1px rgba(60, 64, 67, 0.15);\n",
              "      fill: #174EA6;\n",
              "    }\n",
              "\n",
              "    [theme=dark] .colab-df-convert {\n",
              "      background-color: #3B4455;\n",
              "      fill: #D2E3FC;\n",
              "    }\n",
              "\n",
              "    [theme=dark] .colab-df-convert:hover {\n",
              "      background-color: #434B5C;\n",
              "      box-shadow: 0px 1px 3px 1px rgba(0, 0, 0, 0.15);\n",
              "      filter: drop-shadow(0px 1px 2px rgba(0, 0, 0, 0.3));\n",
              "      fill: #FFFFFF;\n",
              "    }\n",
              "  </style>\n",
              "\n",
              "      <script>\n",
              "        const buttonEl =\n",
              "          document.querySelector('#df-c9d9fe0b-03b8-48b1-a6b0-e635a6415e12 button.colab-df-convert');\n",
              "        buttonEl.style.display =\n",
              "          google.colab.kernel.accessAllowed ? 'block' : 'none';\n",
              "\n",
              "        async function convertToInteractive(key) {\n",
              "          const element = document.querySelector('#df-c9d9fe0b-03b8-48b1-a6b0-e635a6415e12');\n",
              "          const dataTable =\n",
              "            await google.colab.kernel.invokeFunction('convertToInteractive',\n",
              "                                                     [key], {});\n",
              "          if (!dataTable) return;\n",
              "\n",
              "          const docLinkHtml = 'Like what you see? Visit the ' +\n",
              "            '<a target=\"_blank\" href=https://colab.research.google.com/notebooks/data_table.ipynb>data table notebook</a>'\n",
              "            + ' to learn more about interactive tables.';\n",
              "          element.innerHTML = '';\n",
              "          dataTable['output_type'] = 'display_data';\n",
              "          await google.colab.output.renderOutput(dataTable, element);\n",
              "          const docLink = document.createElement('div');\n",
              "          docLink.innerHTML = docLinkHtml;\n",
              "          element.appendChild(docLink);\n",
              "        }\n",
              "      </script>\n",
              "    </div>\n",
              "  </div>\n",
              "  "
            ]
          },
          "metadata": {},
          "execution_count": 200
        }
      ]
    },
    {
      "cell_type": "code",
      "source": [
        "dat[\"Sch_Departure\"] = dat.apply (lambda x: pd.Timestamp(x[\"Sch_Departure\"]), axis=1)\n",
        "dat[\"Act_Departure\"] = dat.apply (lambda x: pd.Timestamp(x[\"Act_Departure\"]), axis=1)\n",
        "dat[\"S2\"] = dat.apply (lambda x: pd.Timestamp(x[\"S2\"]), axis=1)"
      ],
      "metadata": {
        "id": "Pdef6uN9xbp0"
      },
      "execution_count": 201,
      "outputs": []
    },
    {
      "cell_type": "code",
      "source": [
        "#df_clean = copy.deepcopy(basa)"
      ],
      "metadata": {
        "id": "Nb6k2ay_6Iuq"
      },
      "execution_count": 159,
      "outputs": []
    },
    {
      "cell_type": "code",
      "source": [
        "dat['Flight_ID'] = dat['Flight_ID'].astype(int)\n",
        "df_clean = pd.concat([basa, y2026, dat])\n",
        "\n",
        "del df_clean['df']\n",
        "df_clean['Duplicated'] = df_clean.duplicated(keep=False) # keep=False marks the duplicated row with a True\n",
        "#df_final = df_clean[~df_clean['Duplicated']] # selects only rows which are not duplicated."
      ],
      "metadata": {
        "id": "7KW7fzHX1pwb"
      },
      "execution_count": 202,
      "outputs": []
    },
    {
      "cell_type": "code",
      "source": [
        "del df_clean['Duplicated']"
      ],
      "metadata": {
        "id": "YpVxCGuW6q3h"
      },
      "execution_count": 203,
      "outputs": []
    },
    {
      "cell_type": "code",
      "source": [
        "df_f = pd.read_csv('dat_F_sub.csv')"
      ],
      "metadata": {
        "id": "6KTef2O9Cps8"
      },
      "execution_count": 204,
      "outputs": []
    },
    {
      "cell_type": "code",
      "source": [
        "merged = df_clean.merge(df_f, on='Flight_ID', how='left')\n",
        "merged = merged.drop(['Month_y', 'Season_y','Year_y','Time_of_Day_y','Day_of_Week_y','Period_of_Week_y','Airfield_y', 'Unnamed: 0', 'Delay_in_Seconds_y'], axis=1)"
      ],
      "metadata": {
        "id": "EF18UPwuC0JD"
      },
      "execution_count": 205,
      "outputs": []
    },
    {
      "cell_type": "code",
      "source": [
        "df_clean.columns"
      ],
      "metadata": {
        "colab": {
          "base_uri": "https://localhost:8080/"
        },
        "id": "n1Bj39y45mDV",
        "outputId": "8638c76b-c8f6-4104-d968-ab429d081560"
      },
      "execution_count": 206,
      "outputs": [
        {
          "output_type": "execute_result",
          "data": {
            "text/plain": [
              "Index(['X', 'Airfield', 'S2', 'Wait_Time', 'C_Start', 'C0', 'C_avg',\n",
              "       'Sch_Departure', 'Act_Departure', 'BFO_Dest_City',\n",
              "       'BFO_Destination_Country_Code', 'order', 'Pass_ID', 'Departure_Date',\n",
              "       'Departure_Time', 'Time_of_Day', 'Period_of_Week', 'Day_of_Week',\n",
              "       'Month', 'Season', 'Year', 'S2_Sch_Flag', 'S2_Act_Flag', 'Sch_Act_Flag',\n",
              "       'WT_flag', 'Delay_in_Seconds', 'valid_P_ID', 'Flight_ID'],\n",
              "      dtype='object')"
            ]
          },
          "metadata": {},
          "execution_count": 206
        }
      ]
    },
    {
      "cell_type": "code",
      "source": [
        "merged.columns = merged.columns.str.rstrip('_x')\n",
        "merged.columns"
      ],
      "metadata": {
        "colab": {
          "base_uri": "https://localhost:8080/"
        },
        "id": "GCZTobUZDAaB",
        "outputId": "834786ac-e88f-47f7-8a03-98e814db8805"
      },
      "execution_count": 207,
      "outputs": [
        {
          "output_type": "execute_result",
          "data": {
            "text/plain": [
              "Index(['X', 'Airfield', 'S2', 'Wait_Time', 'C_Start', 'C0', 'C_avg',\n",
              "       'Sch_Departure', 'Act_Departure', 'BFO_Dest_City',\n",
              "       'BFO_Destination_Country_Code', 'order', 'Pass_ID', 'Departure_Date',\n",
              "       'Departure_Time', 'Time_of_Day', 'Period_of_Week', 'Day_of_Week',\n",
              "       'Month', 'Season', 'Year', 'S2_Sch_Flag', 'S2_Act_Flag', 'Sch_Act_Flag',\n",
              "       'WT_flag', 'Delay_in_Seconds', 'valid_P_ID', 'Flight_ID',\n",
              "       'Sch_Departure_y', 'Act_Departure_y', 'tot_pass', 'N', 'min', 'mean',\n",
              "       'median', 'ma', 'mean_WTL', 'mean_City_Flag', 'mode_BFO_Dest_City',\n",
              "       'sum_city_mode', 'N_of_Dest_City', 'mode_BFO_Dest_Country_Code',\n",
              "       'sum_country_mode', 'N_of_Dest_Country'],\n",
              "      dtype='object')"
            ]
          },
          "metadata": {},
          "execution_count": 207
        }
      ]
    },
    {
      "cell_type": "code",
      "source": [
        "from google.colab import files\n",
        "merged.to_csv('all_data_merged.csv', encoding = 'utf-8-sig')\n",
        "files.download('all_data_merged.csv')"
      ],
      "metadata": {
        "colab": {
          "base_uri": "https://localhost:8080/",
          "height": 17
        },
        "id": "tw0f64MtD3Uc",
        "outputId": "c4c55997-fa49-472f-984b-17e32d1c3b9e"
      },
      "execution_count": 194,
      "outputs": [
        {
          "output_type": "display_data",
          "data": {
            "text/plain": [
              "<IPython.core.display.Javascript object>"
            ],
            "application/javascript": [
              "\n",
              "    async function download(id, filename, size) {\n",
              "      if (!google.colab.kernel.accessAllowed) {\n",
              "        return;\n",
              "      }\n",
              "      const div = document.createElement('div');\n",
              "      const label = document.createElement('label');\n",
              "      label.textContent = `Downloading \"${filename}\": `;\n",
              "      div.appendChild(label);\n",
              "      const progress = document.createElement('progress');\n",
              "      progress.max = size;\n",
              "      div.appendChild(progress);\n",
              "      document.body.appendChild(div);\n",
              "\n",
              "      const buffers = [];\n",
              "      let downloaded = 0;\n",
              "\n",
              "      const channel = await google.colab.kernel.comms.open(id);\n",
              "      // Send a message to notify the kernel that we're ready.\n",
              "      channel.send({})\n",
              "\n",
              "      for await (const message of channel.messages) {\n",
              "        // Send a message to notify the kernel that we're ready.\n",
              "        channel.send({})\n",
              "        if (message.buffers) {\n",
              "          for (const buffer of message.buffers) {\n",
              "            buffers.push(buffer);\n",
              "            downloaded += buffer.byteLength;\n",
              "            progress.value = downloaded;\n",
              "          }\n",
              "        }\n",
              "      }\n",
              "      const blob = new Blob(buffers, {type: 'application/binary'});\n",
              "      const a = document.createElement('a');\n",
              "      a.href = window.URL.createObjectURL(blob);\n",
              "      a.download = filename;\n",
              "      div.appendChild(a);\n",
              "      a.click();\n",
              "      div.remove();\n",
              "    }\n",
              "  "
            ]
          },
          "metadata": {}
        },
        {
          "output_type": "display_data",
          "data": {
            "text/plain": [
              "<IPython.core.display.Javascript object>"
            ],
            "application/javascript": [
              "download(\"download_26f15034-d94b-4c9f-b466-99a79c6404cc\", \"all_data_merged.csv\", 62115031)"
            ]
          },
          "metadata": {}
        }
      ]
    }
  ]
}